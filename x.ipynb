{
  "metadata": {
    "kernelspec": {
      "display_name": "Python 3",
      "language": "python",
      "name": "python3"
    },
    "language_info": {
      "codemirror_mode": {
        "name": "ipython",
        "version": 3
      },
      "file_extension": ".py",
      "mimetype": "text/x-python",
      "name": "python",
      "nbconvert_exporter": "python",
      "pygments_lexer": "ipython3",
      "version": "3.7.11"
    }
  },
  "nbformat": 4,
  "nbformat_minor": 5,
  "cells": [
    {
      "cell_type": "markdown",
      "metadata": {},
      "source": [
        "# Sample Jupyter Notebook\n",
        "This is a simple example of a Jupyter Notebook."
      ]
    },
    {
      "cell_type": "code",
      "metadata": {},
      "source": [
        "def add_numbers(a, b):\n",
        "    return a + b\n",
        "\n",
        "result = add_numbers(3, 4)\n",
        "result"
      ],
      "outputs": [
        {
          "output_type": "execute_result",
          "metadata": {},
          "data": {
            "text/plain": "7"
          },
          "execution_count": 1
        }
      ]
    }
  ]
}
